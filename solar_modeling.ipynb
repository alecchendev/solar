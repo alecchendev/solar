{
 "cells": [
  {
   "cell_type": "markdown",
   "id": "3e734620-66aa-4157-aa9a-0c76c551826e",
   "metadata": {},
   "source": [
    "### Questions\n",
    "- What are the different state/country datasets?\n",
    "  - They are outputs of the simulation it seems...\n",
    "  - TexasDataCenterSolarModeling.pdf is a saved mathematica notebook output specifically calculating the output NorthTexas2.csv\n",
    "- What is the plot?\n",
    "  - X: load capex (\\\\$/MW), Y: Power system capex (\\\\$/MWh-load over 10 years)\n",
    "- I'd need to find the data used for the other cities...\n",
    "  - It's all here: https://www.nrel.gov/grid/solar-power-data"
   ]
  },
  {
   "cell_type": "code",
   "execution_count": 2,
   "id": "fd5aa301-6c9d-4591-b85e-ec14a8c38518",
   "metadata": {},
   "outputs": [],
   "source": [
    "import os"
   ]
  },
  {
   "cell_type": "code",
   "execution_count": 5,
   "id": "5be59a2e-1d22-4b34-8b3b-f961cfdee868",
   "metadata": {},
   "outputs": [
    {
     "data": {
      "text/plain": [
       "'/Users/alecchen/Documents/Code/solar-modeling'"
      ]
     },
     "execution_count": 5,
     "metadata": {},
     "output_type": "execute_result"
    }
   ],
   "source": [
    "os.getcwd()"
   ]
  },
  {
   "cell_type": "code",
   "execution_count": 7,
   "id": "6c5c7edc-c740-4c1e-ae86-b6c7a2727e59",
   "metadata": {},
   "outputs": [
    {
     "data": {
      "text/plain": [
       "['TexasDataCenterSolarModeling.pdf',\n",
       " 'Britain.csv',\n",
       " 'Solar modeling2.nb',\n",
       " 'Actual_36.25_-102.95_2006_UPV_84MW_5_Min.csv',\n",
       " 'drive-download-20250808T042704Z-1-001.zip',\n",
       " 'tx-pv-2006.zip',\n",
       " 'Maine.csv',\n",
       " 'Arizona.csv',\n",
       " 'California.csv',\n",
       " 'NorthTexas2.csv',\n",
       " 'Washington.csv']"
      ]
     },
     "execution_count": 7,
     "metadata": {},
     "output_type": "execute_result"
    }
   ],
   "source": [
    "os.listdir('data')"
   ]
  },
  {
   "cell_type": "code",
   "execution_count": 36,
   "id": "560bf236-0be1-40f4-9ceb-8b7e9519eefe",
   "metadata": {},
   "outputs": [],
   "source": [
    "import pandas as pd"
   ]
  },
  {
   "cell_type": "code",
   "execution_count": 2,
   "id": "b3c30d00-d1eb-4df2-a435-b102deb30480",
   "metadata": {},
   "outputs": [
    {
     "data": {
      "text/html": [
       "<div>\n",
       "<style scoped>\n",
       "    .dataframe tbody tr th:only-of-type {\n",
       "        vertical-align: middle;\n",
       "    }\n",
       "\n",
       "    .dataframe tbody tr th {\n",
       "        vertical-align: top;\n",
       "    }\n",
       "\n",
       "    .dataframe thead th {\n",
       "        text-align: right;\n",
       "    }\n",
       "</style>\n",
       "<table border=\"1\" class=\"dataframe\">\n",
       "  <thead>\n",
       "    <tr style=\"text-align: right;\">\n",
       "      <th></th>\n",
       "      <th>solar cost $/MW</th>\n",
       "      <th>battery cost $/MWh</th>\n",
       "      <th>load cost $/MW</th>\n",
       "      <th>arraysize (MW)</th>\n",
       "      <th>battery size (MWh)</th>\n",
       "      <th>load size (1 MW by definition)</th>\n",
       "      <th>array cost $</th>\n",
       "      <th>battery cost $</th>\n",
       "      <th>load cost $ (all normalized to 1 MW)</th>\n",
       "      <th>total power system cost $</th>\n",
       "      <th>total system cost $</th>\n",
       "      <th>total system cost per utilization</th>\n",
       "      <th>battery size relative to 1 MW array</th>\n",
       "      <th>load size relative to 1 MW array</th>\n",
       "      <th>annual battery utilization</th>\n",
       "      <th>annual load utilization</th>\n",
       "    </tr>\n",
       "  </thead>\n",
       "  <tbody>\n",
       "    <tr>\n",
       "      <th>0</th>\n",
       "      <td>200000</td>\n",
       "      <td>200000</td>\n",
       "      <td>10000.000000</td>\n",
       "      <td>1.269183</td>\n",
       "      <td>0.0</td>\n",
       "      <td>1.0</td>\n",
       "      <td>253836.597598</td>\n",
       "      <td>0.0</td>\n",
       "      <td>10000.000000</td>\n",
       "      <td>253836.597598</td>\n",
       "      <td>263836.597598</td>\n",
       "      <td>1.107361e+06</td>\n",
       "      <td>0.0</td>\n",
       "      <td>0.787908</td>\n",
       "      <td>0.004119</td>\n",
       "      <td>0.238257</td>\n",
       "    </tr>\n",
       "    <tr>\n",
       "      <th>1</th>\n",
       "      <td>200000</td>\n",
       "      <td>200000</td>\n",
       "      <td>12589.254118</td>\n",
       "      <td>1.284408</td>\n",
       "      <td>0.0</td>\n",
       "      <td>1.0</td>\n",
       "      <td>256881.653255</td>\n",
       "      <td>0.0</td>\n",
       "      <td>12589.254118</td>\n",
       "      <td>256881.653255</td>\n",
       "      <td>269470.907373</td>\n",
       "      <td>1.118076e+06</td>\n",
       "      <td>0.0</td>\n",
       "      <td>0.778569</td>\n",
       "      <td>0.005099</td>\n",
       "      <td>0.241013</td>\n",
       "    </tr>\n",
       "    <tr>\n",
       "      <th>2</th>\n",
       "      <td>200000</td>\n",
       "      <td>200000</td>\n",
       "      <td>15848.931925</td>\n",
       "      <td>1.301215</td>\n",
       "      <td>0.0</td>\n",
       "      <td>1.0</td>\n",
       "      <td>260243.026274</td>\n",
       "      <td>0.0</td>\n",
       "      <td>15848.931925</td>\n",
       "      <td>260243.026274</td>\n",
       "      <td>276091.958198</td>\n",
       "      <td>1.131403e+06</td>\n",
       "      <td>0.0</td>\n",
       "      <td>0.768512</td>\n",
       "      <td>0.006431</td>\n",
       "      <td>0.244026</td>\n",
       "    </tr>\n",
       "    <tr>\n",
       "      <th>3</th>\n",
       "      <td>200000</td>\n",
       "      <td>200000</td>\n",
       "      <td>19952.623150</td>\n",
       "      <td>1.320610</td>\n",
       "      <td>0.0</td>\n",
       "      <td>1.0</td>\n",
       "      <td>264121.956898</td>\n",
       "      <td>0.0</td>\n",
       "      <td>19952.623150</td>\n",
       "      <td>264121.956898</td>\n",
       "      <td>284074.580048</td>\n",
       "      <td>1.147972e+06</td>\n",
       "      <td>0.0</td>\n",
       "      <td>0.757226</td>\n",
       "      <td>0.008048</td>\n",
       "      <td>0.247458</td>\n",
       "    </tr>\n",
       "    <tr>\n",
       "      <th>4</th>\n",
       "      <td>200000</td>\n",
       "      <td>200000</td>\n",
       "      <td>25118.864315</td>\n",
       "      <td>1.339795</td>\n",
       "      <td>0.0</td>\n",
       "      <td>1.0</td>\n",
       "      <td>267958.975204</td>\n",
       "      <td>0.0</td>\n",
       "      <td>25118.864315</td>\n",
       "      <td>267958.975204</td>\n",
       "      <td>293077.839519</td>\n",
       "      <td>1.168544e+06</td>\n",
       "      <td>0.0</td>\n",
       "      <td>0.746383</td>\n",
       "      <td>0.010008</td>\n",
       "      <td>0.250806</td>\n",
       "    </tr>\n",
       "  </tbody>\n",
       "</table>\n",
       "</div>"
      ],
      "text/plain": [
       "   solar cost $/MW  battery cost $/MWh  load cost $/MW  arraysize (MW)  \\\n",
       "0           200000              200000    10000.000000        1.269183   \n",
       "1           200000              200000    12589.254118        1.284408   \n",
       "2           200000              200000    15848.931925        1.301215   \n",
       "3           200000              200000    19952.623150        1.320610   \n",
       "4           200000              200000    25118.864315        1.339795   \n",
       "\n",
       "   battery size (MWh)  load size (1 MW by definition)   array cost $  \\\n",
       "0                 0.0                             1.0  253836.597598   \n",
       "1                 0.0                             1.0  256881.653255   \n",
       "2                 0.0                             1.0  260243.026274   \n",
       "3                 0.0                             1.0  264121.956898   \n",
       "4                 0.0                             1.0  267958.975204   \n",
       "\n",
       "   battery cost $  load cost $ (all normalized to 1 MW)  \\\n",
       "0             0.0                          10000.000000   \n",
       "1             0.0                          12589.254118   \n",
       "2             0.0                          15848.931925   \n",
       "3             0.0                          19952.623150   \n",
       "4             0.0                          25118.864315   \n",
       "\n",
       "   total power system cost $  total system cost $  \\\n",
       "0              253836.597598        263836.597598   \n",
       "1              256881.653255        269470.907373   \n",
       "2              260243.026274        276091.958198   \n",
       "3              264121.956898        284074.580048   \n",
       "4              267958.975204        293077.839519   \n",
       "\n",
       "   total system cost per utilization  battery size relative to 1 MW array  \\\n",
       "0                       1.107361e+06                                  0.0   \n",
       "1                       1.118076e+06                                  0.0   \n",
       "2                       1.131403e+06                                  0.0   \n",
       "3                       1.147972e+06                                  0.0   \n",
       "4                       1.168544e+06                                  0.0   \n",
       "\n",
       "   load size relative to 1 MW array  annual battery utilization  \\\n",
       "0                          0.787908                    0.004119   \n",
       "1                          0.778569                    0.005099   \n",
       "2                          0.768512                    0.006431   \n",
       "3                          0.757226                    0.008048   \n",
       "4                          0.746383                    0.010008   \n",
       "\n",
       "   annual load utilization  \n",
       "0                 0.238257  \n",
       "1                 0.241013  \n",
       "2                 0.244026  \n",
       "3                 0.247458  \n",
       "4                 0.250806  "
      ]
     },
     "execution_count": 2,
     "metadata": {},
     "output_type": "execute_result"
    }
   ],
   "source": [
    "az_df = pd.read_csv('data/Arizona.csv')\n",
    "az_df.head()"
   ]
  },
  {
   "cell_type": "code",
   "execution_count": 7,
   "id": "b641a183-753e-4fbb-b921-8b2c7392afb1",
   "metadata": {},
   "outputs": [
    {
     "data": {
      "text/html": [
       "<div>\n",
       "<style scoped>\n",
       "    .dataframe tbody tr th:only-of-type {\n",
       "        vertical-align: middle;\n",
       "    }\n",
       "\n",
       "    .dataframe tbody tr th {\n",
       "        vertical-align: top;\n",
       "    }\n",
       "\n",
       "    .dataframe thead th {\n",
       "        text-align: right;\n",
       "    }\n",
       "</style>\n",
       "<table border=\"1\" class=\"dataframe\">\n",
       "  <thead>\n",
       "    <tr style=\"text-align: right;\">\n",
       "      <th></th>\n",
       "      <th>solar cost $/MW</th>\n",
       "      <th>battery cost $/MWh</th>\n",
       "      <th>load cost $/MW</th>\n",
       "      <th>arraysize (MW)</th>\n",
       "      <th>battery size (MWh)</th>\n",
       "      <th>load size (1 MW by definition)</th>\n",
       "      <th>array cost $</th>\n",
       "      <th>battery cost $</th>\n",
       "      <th>load cost $ (all normalized to 1 MW)</th>\n",
       "      <th>total power system cost $</th>\n",
       "      <th>total system cost $</th>\n",
       "      <th>total system cost per utilization</th>\n",
       "      <th>battery size relative to 1 MW array</th>\n",
       "      <th>load size relative to 1 MW array</th>\n",
       "      <th>annual battery utilization</th>\n",
       "      <th>annual load utilization</th>\n",
       "    </tr>\n",
       "  </thead>\n",
       "  <tbody>\n",
       "    <tr>\n",
       "      <th>0</th>\n",
       "      <td>200000</td>\n",
       "      <td>200000</td>\n",
       "      <td>10000.000000</td>\n",
       "      <td>1.265840</td>\n",
       "      <td>0.0</td>\n",
       "      <td>1.0</td>\n",
       "      <td>253168.072084</td>\n",
       "      <td>0.0</td>\n",
       "      <td>10000.000000</td>\n",
       "      <td>253168.072084</td>\n",
       "      <td>263168.072084</td>\n",
       "      <td>1.051619e+06</td>\n",
       "      <td>0.0</td>\n",
       "      <td>0.789989</td>\n",
       "      <td>0.004271</td>\n",
       "      <td>0.250250</td>\n",
       "    </tr>\n",
       "    <tr>\n",
       "      <th>1</th>\n",
       "      <td>200000</td>\n",
       "      <td>200000</td>\n",
       "      <td>12589.254118</td>\n",
       "      <td>1.279195</td>\n",
       "      <td>0.0</td>\n",
       "      <td>1.0</td>\n",
       "      <td>255839.002405</td>\n",
       "      <td>0.0</td>\n",
       "      <td>12589.254118</td>\n",
       "      <td>255839.002405</td>\n",
       "      <td>268428.256523</td>\n",
       "      <td>1.061833e+06</td>\n",
       "      <td>0.0</td>\n",
       "      <td>0.781742</td>\n",
       "      <td>0.005146</td>\n",
       "      <td>0.252797</td>\n",
       "    </tr>\n",
       "    <tr>\n",
       "      <th>2</th>\n",
       "      <td>200000</td>\n",
       "      <td>200000</td>\n",
       "      <td>15848.931925</td>\n",
       "      <td>1.295417</td>\n",
       "      <td>0.0</td>\n",
       "      <td>1.0</td>\n",
       "      <td>259083.344454</td>\n",
       "      <td>0.0</td>\n",
       "      <td>15848.931925</td>\n",
       "      <td>259083.344454</td>\n",
       "      <td>274932.276378</td>\n",
       "      <td>1.074531e+06</td>\n",
       "      <td>0.0</td>\n",
       "      <td>0.771952</td>\n",
       "      <td>0.006621</td>\n",
       "      <td>0.255863</td>\n",
       "    </tr>\n",
       "    <tr>\n",
       "      <th>3</th>\n",
       "      <td>200000</td>\n",
       "      <td>200000</td>\n",
       "      <td>19952.623150</td>\n",
       "      <td>1.311187</td>\n",
       "      <td>0.0</td>\n",
       "      <td>1.0</td>\n",
       "      <td>262237.449740</td>\n",
       "      <td>0.0</td>\n",
       "      <td>19952.623150</td>\n",
       "      <td>262237.449740</td>\n",
       "      <td>282190.072890</td>\n",
       "      <td>1.090356e+06</td>\n",
       "      <td>0.0</td>\n",
       "      <td>0.762668</td>\n",
       "      <td>0.008219</td>\n",
       "      <td>0.258806</td>\n",
       "    </tr>\n",
       "    <tr>\n",
       "      <th>4</th>\n",
       "      <td>200000</td>\n",
       "      <td>200000</td>\n",
       "      <td>25118.864315</td>\n",
       "      <td>1.335469</td>\n",
       "      <td>0.0</td>\n",
       "      <td>1.0</td>\n",
       "      <td>267093.781284</td>\n",
       "      <td>0.0</td>\n",
       "      <td>25118.864315</td>\n",
       "      <td>267093.781284</td>\n",
       "      <td>292212.645599</td>\n",
       "      <td>1.109994e+06</td>\n",
       "      <td>0.0</td>\n",
       "      <td>0.748801</td>\n",
       "      <td>0.011168</td>\n",
       "      <td>0.263256</td>\n",
       "    </tr>\n",
       "  </tbody>\n",
       "</table>\n",
       "</div>"
      ],
      "text/plain": [
       "   solar cost $/MW  battery cost $/MWh  load cost $/MW  arraysize (MW)  \\\n",
       "0           200000              200000    10000.000000        1.265840   \n",
       "1           200000              200000    12589.254118        1.279195   \n",
       "2           200000              200000    15848.931925        1.295417   \n",
       "3           200000              200000    19952.623150        1.311187   \n",
       "4           200000              200000    25118.864315        1.335469   \n",
       "\n",
       "   battery size (MWh)  load size (1 MW by definition)   array cost $  \\\n",
       "0                 0.0                             1.0  253168.072084   \n",
       "1                 0.0                             1.0  255839.002405   \n",
       "2                 0.0                             1.0  259083.344454   \n",
       "3                 0.0                             1.0  262237.449740   \n",
       "4                 0.0                             1.0  267093.781284   \n",
       "\n",
       "   battery cost $  load cost $ (all normalized to 1 MW)  \\\n",
       "0             0.0                          10000.000000   \n",
       "1             0.0                          12589.254118   \n",
       "2             0.0                          15848.931925   \n",
       "3             0.0                          19952.623150   \n",
       "4             0.0                          25118.864315   \n",
       "\n",
       "   total power system cost $  total system cost $  \\\n",
       "0              253168.072084        263168.072084   \n",
       "1              255839.002405        268428.256523   \n",
       "2              259083.344454        274932.276378   \n",
       "3              262237.449740        282190.072890   \n",
       "4              267093.781284        292212.645599   \n",
       "\n",
       "   total system cost per utilization  battery size relative to 1 MW array  \\\n",
       "0                       1.051619e+06                                  0.0   \n",
       "1                       1.061833e+06                                  0.0   \n",
       "2                       1.074531e+06                                  0.0   \n",
       "3                       1.090356e+06                                  0.0   \n",
       "4                       1.109994e+06                                  0.0   \n",
       "\n",
       "   load size relative to 1 MW array  annual battery utilization  \\\n",
       "0                          0.789989                    0.004271   \n",
       "1                          0.781742                    0.005146   \n",
       "2                          0.771952                    0.006621   \n",
       "3                          0.762668                    0.008219   \n",
       "4                          0.748801                    0.011168   \n",
       "\n",
       "   annual load utilization  \n",
       "0                 0.250250  \n",
       "1                 0.252797  \n",
       "2                 0.255863  \n",
       "3                 0.258806  \n",
       "4                 0.263256  "
      ]
     },
     "execution_count": 7,
     "metadata": {},
     "output_type": "execute_result"
    }
   ],
   "source": [
    "ca_df = pd.read_csv('data/California.csv')\n",
    "ca_df.head()"
   ]
  },
  {
   "cell_type": "code",
   "execution_count": 12,
   "id": "1c46df26-c6fd-436d-a802-06a5a0cb5367",
   "metadata": {},
   "outputs": [
    {
     "name": "stdout",
     "output_type": "stream",
     "text": [
      "105120\n"
     ]
    },
    {
     "data": {
      "text/html": [
       "<div>\n",
       "<style scoped>\n",
       "    .dataframe tbody tr th:only-of-type {\n",
       "        vertical-align: middle;\n",
       "    }\n",
       "\n",
       "    .dataframe tbody tr th {\n",
       "        vertical-align: top;\n",
       "    }\n",
       "\n",
       "    .dataframe thead th {\n",
       "        text-align: right;\n",
       "    }\n",
       "</style>\n",
       "<table border=\"1\" class=\"dataframe\">\n",
       "  <thead>\n",
       "    <tr style=\"text-align: right;\">\n",
       "      <th></th>\n",
       "      <th>LocalTime</th>\n",
       "      <th>Power(MW)</th>\n",
       "    </tr>\n",
       "  </thead>\n",
       "  <tbody>\n",
       "    <tr>\n",
       "      <th>0</th>\n",
       "      <td>01/01/06 00:00</td>\n",
       "      <td>0.0</td>\n",
       "    </tr>\n",
       "    <tr>\n",
       "      <th>1</th>\n",
       "      <td>01/01/06 00:05</td>\n",
       "      <td>0.0</td>\n",
       "    </tr>\n",
       "    <tr>\n",
       "      <th>2</th>\n",
       "      <td>01/01/06 00:10</td>\n",
       "      <td>0.0</td>\n",
       "    </tr>\n",
       "    <tr>\n",
       "      <th>3</th>\n",
       "      <td>01/01/06 00:15</td>\n",
       "      <td>0.0</td>\n",
       "    </tr>\n",
       "    <tr>\n",
       "      <th>4</th>\n",
       "      <td>01/01/06 00:20</td>\n",
       "      <td>0.0</td>\n",
       "    </tr>\n",
       "  </tbody>\n",
       "</table>\n",
       "</div>"
      ],
      "text/plain": [
       "        LocalTime  Power(MW)\n",
       "0  01/01/06 00:00        0.0\n",
       "1  01/01/06 00:05        0.0\n",
       "2  01/01/06 00:10        0.0\n",
       "3  01/01/06 00:15        0.0\n",
       "4  01/01/06 00:20        0.0"
      ]
     },
     "execution_count": 12,
     "metadata": {},
     "output_type": "execute_result"
    }
   ],
   "source": [
    "actual_df = pd.read_csv('data/Actual_36.25_-102.95_2006_UPV_84MW_5_Min.csv')\n",
    "print(len(actual_df))\n",
    "actual_df.head()"
   ]
  },
  {
   "cell_type": "code",
   "execution_count": 11,
   "id": "0c1c3fba-68d8-4f32-87bd-524eee449157",
   "metadata": {},
   "outputs": [
    {
     "data": {
      "text/html": [
       "<div>\n",
       "<style scoped>\n",
       "    .dataframe tbody tr th:only-of-type {\n",
       "        vertical-align: middle;\n",
       "    }\n",
       "\n",
       "    .dataframe tbody tr th {\n",
       "        vertical-align: top;\n",
       "    }\n",
       "\n",
       "    .dataframe thead th {\n",
       "        text-align: right;\n",
       "    }\n",
       "</style>\n",
       "<table border=\"1\" class=\"dataframe\">\n",
       "  <thead>\n",
       "    <tr style=\"text-align: right;\">\n",
       "      <th></th>\n",
       "      <th>LocalTime</th>\n",
       "      <th>Power(MW)</th>\n",
       "    </tr>\n",
       "  </thead>\n",
       "  <tbody>\n",
       "    <tr>\n",
       "      <th>0</th>\n",
       "      <td>01/01/06 00:00</td>\n",
       "      <td>0.0</td>\n",
       "    </tr>\n",
       "    <tr>\n",
       "      <th>1</th>\n",
       "      <td>01/01/06 01:00</td>\n",
       "      <td>0.0</td>\n",
       "    </tr>\n",
       "    <tr>\n",
       "      <th>2</th>\n",
       "      <td>01/01/06 02:00</td>\n",
       "      <td>0.0</td>\n",
       "    </tr>\n",
       "    <tr>\n",
       "      <th>3</th>\n",
       "      <td>01/01/06 03:00</td>\n",
       "      <td>0.0</td>\n",
       "    </tr>\n",
       "    <tr>\n",
       "      <th>4</th>\n",
       "      <td>01/01/06 04:00</td>\n",
       "      <td>0.0</td>\n",
       "    </tr>\n",
       "  </tbody>\n",
       "</table>\n",
       "</div>"
      ],
      "text/plain": [
       "        LocalTime  Power(MW)\n",
       "0  01/01/06 00:00        0.0\n",
       "1  01/01/06 01:00        0.0\n",
       "2  01/01/06 02:00        0.0\n",
       "3  01/01/06 03:00        0.0\n",
       "4  01/01/06 04:00        0.0"
      ]
     },
     "execution_count": 11,
     "metadata": {},
     "output_type": "execute_result"
    }
   ],
   "source": [
    "actual_df = pd.read_csv('HA4_34.05_-102.05_2006_UPV_151MW_60_Min.csv')\n",
    "actual_df.head()"
   ]
  },
  {
   "cell_type": "markdown",
   "id": "f8d2bbca-dc70-45ce-bcd5-6a910323b80b",
   "metadata": {},
   "source": [
    "### Download"
   ]
  },
  {
   "cell_type": "code",
   "execution_count": 49,
   "id": "aa181f58-4a4f-4b40-b42b-62460cbe3821",
   "metadata": {},
   "outputs": [],
   "source": [
    "import os\n",
    "import requests\n",
    "\n",
    "DATA_DIR = \"data\"\n",
    "\n",
    "eastern_states = ['al', 'ak', 'ct', 'de', 'fl', 'ga', 'il', 'in', 'ia', 'ks', 'ky', 'la', 'me', 'md', 'ma', 'mi', 'mn', 'ms', 'mo', 'mt', 'ne', 'nh', 'nj', 'nm-east', 'ny', 'nc', 'oh', 'ok', 'pa', 'ri', 'sc', 'sd', 'tn', 'tx-east', 'vt', 'va', 'wv', 'wi']\n",
    "western_states = ['az', 'ca', 'co', 'id', 'mt', 'nv', 'nm', 'or', 'sd', 'tx', 'ut', 'wa', 'wy']\n",
    "\n",
    "def state_solar_zip_filename(state: str) -> str:\n",
    "    return f\"{state}-pv-2006.zip\"\n",
    "\n",
    "def state_download_url(state: str) -> str:\n",
    "    return f\"https://www.nrel.gov/docs/libraries/grid/{state_solar_zip_filename(state)}\"\n",
    "\n",
    "def state_data_dir(directory: str, state: str) -> str:\n",
    "    return f\"{directory}/{state}\"\n",
    "\n",
    "def download_state_solar_data(directory: str, state: str):\n",
    "    os.makedirs(directory, exist_ok=True)\n",
    "    url = state_download_url(state)\n",
    "    extract_to = state_data_dir(directory, state)\n",
    "    os.makedirs(extract_to, exist_ok=True)\n",
    "    r = requests.get(url)\n",
    "    z = zipfile.ZipFile(io.BytesIO(r.content))\n",
    "    z.extractall(extract_to)\n",
    "    files = os.listdir(extract_to)\n",
    "    preview_count = 5\n",
    "    print(\"Downloaded:\", \", \".join(files[:preview_count]), f\"\\n...{len(files)} total\")\n",
    "\n",
    "def download_all_solar_data(directory: str):\n",
    "    for state in eastern_states + western_states:\n",
    "        download_state_solar_data(directory, state)"
   ]
  },
  {
   "cell_type": "code",
   "execution_count": 51,
   "id": "bca0deb9-dc4c-4b09-9730-0947ed9aa370",
   "metadata": {},
   "outputs": [
    {
     "name": "stdout",
     "output_type": "stream",
     "text": [
      "Downloaded: HA4_32.55_-112.05_2006_UPV_100MW_60_Min.csv, Actual_33.45_-112.15_2006_DPV_103MW_5_Min.csv, HA4_33.85_-112.55_2006_UPV_28MW_60_Min.csv, Actual_34.65_-114.15_2006_UPV_150MW_5_Min.csv, Actual_32.85_-112.25_2006_UPV_50MW_5_Min.csv \n",
      "...513 total\n"
     ]
    }
   ],
   "source": [
    "download_state_solar_data(DATA_DIR, \"az\")"
   ]
  },
  {
   "cell_type": "code",
   "execution_count": 20,
   "id": "e224b0c5-ed40-47eb-ae1f-4c6dfb079e03",
   "metadata": {},
   "outputs": [
    {
     "name": "stdout",
     "output_type": "stream",
     "text": [
      "Downloaded: HA4_32.55_-112.05_2006_UPV_100MW_60_Min.csv, Actual_33.45_-112.15_2006_DPV_103MW_5_Min.csv, HA4_33.85_-112.55_2006_UPV_28MW_60_Min.csv, Actual_34.65_-114.15_2006_UPV_150MW_5_Min.csv, Actual_32.85_-112.25_2006_UPV_50MW_5_Min.csv ...513 total\n"
     ]
    }
   ],
   "source": [
    "download_all_solar_data(DATA_DIR)"
   ]
  },
  {
   "cell_type": "code",
   "execution_count": 59,
   "id": "793ae735-c6dd-4aa3-aa73-b28bbe91df8b",
   "metadata": {},
   "outputs": [],
   "source": [
    "from dataclasses import dataclass\n",
    "from enum import Enum\n",
    "import re\n",
    "\n",
    "class DataType(str, Enum):\n",
    "    ACTUAL = \"Actual\" # Real power output\n",
    "    DA = \"DA\" # Day ahead forecast\n",
    "    HA4 = \"HA4\" # 4 hour ahead forecast\n",
    "\n",
    "class PvType(str, Enum):\n",
    "    UPV = \"UPV\" # Utility scale PV\n",
    "    DPV = \"DPV\" # Distributed PV\n",
    "\n",
    "def solar_filename(data_type: DataType, latitude: float, longitude: float, weather_year: int, pv_type: PvType, capacity_mw: int, time_interval_min: int) -> str:\n",
    "    return f\"{data_type}_{round(latitude, 2)}_{round(longitude, 2)}_{weather_year}_{pv_type}_{capacity_mw}MW_{time_interval_min}_Min.csv\"\n",
    "\n",
    "@dataclass(frozen=True)\n",
    "class Dataset:\n",
    "    data_type: DataType\n",
    "    latitude: float\n",
    "    longitude: float\n",
    "    weather_year: int\n",
    "    pv_type: PvType\n",
    "    capacity_mw: int\n",
    "    time_interval_min: int\n",
    "\n",
    "    def filename(self) -> str:\n",
    "        return solar_filename(**self.__dict__)\n",
    "\n",
    "    @classmethod\n",
    "    def from_filename(cls, filename: str) -> \"Dataset\":\n",
    "        name = filename.removesuffix(\".csv\")\n",
    "        parts = name.split(\"_\")\n",
    "\n",
    "        if len(parts) != 8:  # 8 because of \"5_Min\" being two parts\n",
    "            raise ValueError(f\"Unexpected filename format: {filename}\")\n",
    "\n",
    "        data_type_str, lat_str, lon_str, year_str, pv_type_str, capacity_str, interval_val, interval_label = parts\n",
    "\n",
    "        if interval_label != \"Min\":\n",
    "            raise ValueError(f\"Expected 'Min' at the end of interval, got '{interval_label}'\")\n",
    "\n",
    "        capacity_mw = int(re.match(r\"(\\d+)MW\", capacity_str).group(1))\n",
    "        interval_min = int(interval_val)\n",
    "\n",
    "        return cls(\n",
    "            data_type=DataType(data_type_str),\n",
    "            latitude=float(lat_str),\n",
    "            longitude=float(lon_str),\n",
    "            weather_year=int(year_str),\n",
    "            pv_type=PvType(pv_type_str),\n",
    "            capacity_mw=capacity_mw,\n",
    "            time_interval_min=interval_min\n",
    "        )\n",
    "\n",
    "example_filename = \"Actual_33.45_-112.15_2006_DPV_103MW_5_Min.csv\"\n",
    "dataset = Dataset.from_filename(example_filename)\n",
    "assert dataset.data_type == DataType.ACTUAL\n",
    "assert dataset.latitude == 33.45\n",
    "assert dataset.longitude == -112.15\n",
    "assert dataset.weather_year == 2006\n",
    "assert dataset.capacity_mw == 103\n",
    "assert dataset.time_interval_min == 5\n",
    "assert dataset.filename() == example_filename"
   ]
  },
  {
   "cell_type": "code",
   "execution_count": 53,
   "id": "8a443fc9-7d06-4e0c-ad02-d5d655a2aeef",
   "metadata": {},
   "outputs": [],
   "source": []
  },
  {
   "cell_type": "markdown",
   "id": "5d0b9f46-a724-41f7-a97c-e4ea4deb6e3d",
   "metadata": {},
   "source": [
    "### Exploration"
   ]
  },
  {
   "cell_type": "code",
   "execution_count": 37,
   "id": "a6b555db-b1ab-4e01-9b57-542b37d40871",
   "metadata": {},
   "outputs": [],
   "source": [
    "import pandas as pd"
   ]
  },
  {
   "cell_type": "code",
   "execution_count": 32,
   "id": "dbd7bb6a-bb29-4901-ba88-3053215dc88d",
   "metadata": {},
   "outputs": [
    {
     "data": {
      "text/plain": [
       "513"
      ]
     },
     "execution_count": 32,
     "metadata": {},
     "output_type": "execute_result"
    }
   ],
   "source": [
    "AZ_DATA_DIR = f\"{DATA_DIR}/az\"\n",
    "files = sorted(os.listdir(AZ_DATA_DIR))\n",
    "len(files)"
   ]
  },
  {
   "cell_type": "code",
   "execution_count": 33,
   "id": "9d6116ca-e562-4f93-9b0f-61583b262c44",
   "metadata": {},
   "outputs": [
    {
     "data": {
      "text/plain": [
       "513"
      ]
     },
     "execution_count": 33,
     "metadata": {},
     "output_type": "execute_result"
    }
   ],
   "source": [
    "ACTUAL_PREFIX = \"Actual\"\n",
    "DA_PREFIX = \"DA\"\n",
    "HA4_PREFIX = \"HA4\"\n",
    "\n",
    "actual_files = [file for file in files if file.startswith(ACTUAL_PREFIX)]\n",
    "da_files = [file for file in files if file.startswith(DA_PREFIX)]\n",
    "ha4_files = [file for file in files if file.startswith(HA4_PREFIX)]\n",
    "len(actual_files) + len(da_files) + len(ha4_files)"
   ]
  },
  {
   "cell_type": "code",
   "execution_count": 40,
   "id": "5eee7e12-5794-454d-a00e-80e4ab564af9",
   "metadata": {},
   "outputs": [
    {
     "data": {
      "text/html": [
       "<div>\n",
       "<style scoped>\n",
       "    .dataframe tbody tr th:only-of-type {\n",
       "        vertical-align: middle;\n",
       "    }\n",
       "\n",
       "    .dataframe tbody tr th {\n",
       "        vertical-align: top;\n",
       "    }\n",
       "\n",
       "    .dataframe thead th {\n",
       "        text-align: right;\n",
       "    }\n",
       "</style>\n",
       "<table border=\"1\" class=\"dataframe\">\n",
       "  <thead>\n",
       "    <tr style=\"text-align: right;\">\n",
       "      <th></th>\n",
       "      <th>LocalTime</th>\n",
       "      <th>Power(MW)</th>\n",
       "    </tr>\n",
       "  </thead>\n",
       "  <tbody>\n",
       "    <tr>\n",
       "      <th>0</th>\n",
       "      <td>01/01/06 00:00</td>\n",
       "      <td>0.0</td>\n",
       "    </tr>\n",
       "    <tr>\n",
       "      <th>1</th>\n",
       "      <td>01/01/06 00:05</td>\n",
       "      <td>0.0</td>\n",
       "    </tr>\n",
       "    <tr>\n",
       "      <th>2</th>\n",
       "      <td>01/01/06 00:10</td>\n",
       "      <td>0.0</td>\n",
       "    </tr>\n",
       "    <tr>\n",
       "      <th>3</th>\n",
       "      <td>01/01/06 00:15</td>\n",
       "      <td>0.0</td>\n",
       "    </tr>\n",
       "    <tr>\n",
       "      <th>4</th>\n",
       "      <td>01/01/06 00:20</td>\n",
       "      <td>0.0</td>\n",
       "    </tr>\n",
       "  </tbody>\n",
       "</table>\n",
       "</div>"
      ],
      "text/plain": [
       "        LocalTime  Power(MW)\n",
       "0  01/01/06 00:00        0.0\n",
       "1  01/01/06 00:05        0.0\n",
       "2  01/01/06 00:10        0.0\n",
       "3  01/01/06 00:15        0.0\n",
       "4  01/01/06 00:20        0.0"
      ]
     },
     "execution_count": 40,
     "metadata": {},
     "output_type": "execute_result"
    }
   ],
   "source": [
    "actual_file = actual_files[0]\n",
    "actual_df = pd.read_csv(f\"{AZ_DATA_DIR}/{actual_file}\")\n",
    "actual_df.head()"
   ]
  },
  {
   "cell_type": "code",
   "execution_count": 42,
   "id": "a7ff4a85-81cf-4b9a-aa27-90fb5e7e1b4d",
   "metadata": {},
   "outputs": [
    {
     "data": {
      "text/html": [
       "<div>\n",
       "<style scoped>\n",
       "    .dataframe tbody tr th:only-of-type {\n",
       "        vertical-align: middle;\n",
       "    }\n",
       "\n",
       "    .dataframe tbody tr th {\n",
       "        vertical-align: top;\n",
       "    }\n",
       "\n",
       "    .dataframe thead th {\n",
       "        text-align: right;\n",
       "    }\n",
       "</style>\n",
       "<table border=\"1\" class=\"dataframe\">\n",
       "  <thead>\n",
       "    <tr style=\"text-align: right;\">\n",
       "      <th></th>\n",
       "      <th>LocalTime</th>\n",
       "      <th>Power(MW)</th>\n",
       "    </tr>\n",
       "  </thead>\n",
       "  <tbody>\n",
       "    <tr>\n",
       "      <th>0</th>\n",
       "      <td>01/01/06 00:00</td>\n",
       "      <td>0.0</td>\n",
       "    </tr>\n",
       "    <tr>\n",
       "      <th>1</th>\n",
       "      <td>01/01/06 01:00</td>\n",
       "      <td>0.0</td>\n",
       "    </tr>\n",
       "    <tr>\n",
       "      <th>2</th>\n",
       "      <td>01/01/06 02:00</td>\n",
       "      <td>0.0</td>\n",
       "    </tr>\n",
       "    <tr>\n",
       "      <th>3</th>\n",
       "      <td>01/01/06 03:00</td>\n",
       "      <td>0.0</td>\n",
       "    </tr>\n",
       "    <tr>\n",
       "      <th>4</th>\n",
       "      <td>01/01/06 04:00</td>\n",
       "      <td>0.0</td>\n",
       "    </tr>\n",
       "  </tbody>\n",
       "</table>\n",
       "</div>"
      ],
      "text/plain": [
       "        LocalTime  Power(MW)\n",
       "0  01/01/06 00:00        0.0\n",
       "1  01/01/06 01:00        0.0\n",
       "2  01/01/06 02:00        0.0\n",
       "3  01/01/06 03:00        0.0\n",
       "4  01/01/06 04:00        0.0"
      ]
     },
     "execution_count": 42,
     "metadata": {},
     "output_type": "execute_result"
    }
   ],
   "source": [
    "da_file = da_files[0]\n",
    "da_df = pd.read_csv(f\"{AZ_DATA_DIR}/{da_file}\")\n",
    "da_df.head()"
   ]
  },
  {
   "cell_type": "code",
   "execution_count": 43,
   "id": "4be7458a-6627-41ef-97c4-f666772780f1",
   "metadata": {},
   "outputs": [
    {
     "data": {
      "text/html": [
       "<div>\n",
       "<style scoped>\n",
       "    .dataframe tbody tr th:only-of-type {\n",
       "        vertical-align: middle;\n",
       "    }\n",
       "\n",
       "    .dataframe tbody tr th {\n",
       "        vertical-align: top;\n",
       "    }\n",
       "\n",
       "    .dataframe thead th {\n",
       "        text-align: right;\n",
       "    }\n",
       "</style>\n",
       "<table border=\"1\" class=\"dataframe\">\n",
       "  <thead>\n",
       "    <tr style=\"text-align: right;\">\n",
       "      <th></th>\n",
       "      <th>LocalTime</th>\n",
       "      <th>Power(MW)</th>\n",
       "    </tr>\n",
       "  </thead>\n",
       "  <tbody>\n",
       "    <tr>\n",
       "      <th>0</th>\n",
       "      <td>01/01/06 00:00</td>\n",
       "      <td>0.0</td>\n",
       "    </tr>\n",
       "    <tr>\n",
       "      <th>1</th>\n",
       "      <td>01/01/06 01:00</td>\n",
       "      <td>0.0</td>\n",
       "    </tr>\n",
       "    <tr>\n",
       "      <th>2</th>\n",
       "      <td>01/01/06 02:00</td>\n",
       "      <td>0.0</td>\n",
       "    </tr>\n",
       "    <tr>\n",
       "      <th>3</th>\n",
       "      <td>01/01/06 03:00</td>\n",
       "      <td>0.0</td>\n",
       "    </tr>\n",
       "    <tr>\n",
       "      <th>4</th>\n",
       "      <td>01/01/06 04:00</td>\n",
       "      <td>0.0</td>\n",
       "    </tr>\n",
       "  </tbody>\n",
       "</table>\n",
       "</div>"
      ],
      "text/plain": [
       "        LocalTime  Power(MW)\n",
       "0  01/01/06 00:00        0.0\n",
       "1  01/01/06 01:00        0.0\n",
       "2  01/01/06 02:00        0.0\n",
       "3  01/01/06 03:00        0.0\n",
       "4  01/01/06 04:00        0.0"
      ]
     },
     "execution_count": 43,
     "metadata": {},
     "output_type": "execute_result"
    }
   ],
   "source": [
    "ha4_file = ha4_files[0]\n",
    "ha4_df = pd.read_csv(f\"{AZ_DATA_DIR}/{ha4_file}\")\n",
    "ha4_df.head()"
   ]
  },
  {
   "cell_type": "code",
   "execution_count": 44,
   "id": "c7da11a0-0830-49c9-8882-e258fec6c4b6",
   "metadata": {},
   "outputs": [],
   "source": [
    "POWER_COL = \"Power(MW)\""
   ]
  },
  {
   "cell_type": "code",
   "execution_count": 45,
   "id": "cec96e85-7dbc-4079-ae76-0e451779949d",
   "metadata": {},
   "outputs": [
    {
     "data": {
      "text/plain": [
       "count    105120.000000\n",
       "mean         18.797293\n",
       "std          25.987606\n",
       "min           0.000000\n",
       "25%           0.000000\n",
       "50%           0.000000\n",
       "75%          40.200000\n",
       "max          94.800000\n",
       "Name: Power(MW), dtype: float64"
      ]
     },
     "execution_count": 45,
     "metadata": {},
     "output_type": "execute_result"
    }
   ],
   "source": [
    "actual_df[POWER_COL].describe()"
   ]
  },
  {
   "cell_type": "code",
   "execution_count": 46,
   "id": "9f61c1a9-9acc-49c2-8a01-febeb964e1a5",
   "metadata": {},
   "outputs": [
    {
     "data": {
      "text/plain": [
       "count    8760.000000\n",
       "mean       19.294064\n",
       "std        26.597566\n",
       "min         0.000000\n",
       "25%         0.000000\n",
       "50%         0.000000\n",
       "75%        41.600000\n",
       "max        86.000000\n",
       "Name: Power(MW), dtype: float64"
      ]
     },
     "execution_count": 46,
     "metadata": {},
     "output_type": "execute_result"
    }
   ],
   "source": [
    "da_df[POWER_COL].describe()"
   ]
  },
  {
   "cell_type": "code",
   "execution_count": 47,
   "id": "b3a44ab7-fb95-4cd0-9656-df0d1ed01746",
   "metadata": {},
   "outputs": [
    {
     "data": {
      "text/plain": [
       "count    8760.000000\n",
       "mean       18.767283\n",
       "std        25.660718\n",
       "min         0.000000\n",
       "25%         0.000000\n",
       "50%         0.000000\n",
       "75%        39.900000\n",
       "max        84.700000\n",
       "Name: Power(MW), dtype: float64"
      ]
     },
     "execution_count": 47,
     "metadata": {},
     "output_type": "execute_result"
    }
   ],
   "source": [
    "ha4_df[POWER_COL].describe()"
   ]
  },
  {
   "cell_type": "code",
   "execution_count": null,
   "id": "40ec4d1c-3268-4239-90f8-c33d82304997",
   "metadata": {},
   "outputs": [],
   "source": []
  }
 ],
 "metadata": {
  "kernelspec": {
   "display_name": "Python 3 (ipykernel)",
   "language": "python",
   "name": "python3"
  },
  "language_info": {
   "codemirror_mode": {
    "name": "ipython",
    "version": 3
   },
   "file_extension": ".py",
   "mimetype": "text/x-python",
   "name": "python",
   "nbconvert_exporter": "python",
   "pygments_lexer": "ipython3",
   "version": "3.9.6"
  }
 },
 "nbformat": 4,
 "nbformat_minor": 5
}
